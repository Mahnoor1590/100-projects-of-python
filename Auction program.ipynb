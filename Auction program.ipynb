{
 "cells": [
  {
   "cell_type": "code",
   "execution_count": null,
   "id": "46f95e20-1b05-4630-82b7-a22a04218f59",
   "metadata": {},
   "outputs": [],
   "source": [
    "The secret Au"
   ]
  },
  {
   "cell_type": "code",
   "execution_count": 1,
   "id": "36522d73-ff42-4b37-aef7-fe90adf252f7",
   "metadata": {
    "tags": []
   },
   "outputs": [],
   "source": [
    "#todo1 ask the user for input\n",
    "#todo2 save data into dictionary {naem:price}\n",
    "#todo3 whether if new bids need to be added\n",
    "#tode4 compare bids in dictionary"
   ]
  },
  {
   "cell_type": "code",
   "execution_count": 2,
   "id": "38cbc241-9bf5-4cbb-ab00-d463177d0f01",
   "metadata": {
    "tags": []
   },
   "outputs": [
    {
     "name": "stdout",
     "output_type": "stream",
     "text": [
      "The secret auction Bid\n"
     ]
    }
   ],
   "source": [
    "print(\"The secret auction Bid\")"
   ]
  },
  {
   "cell_type": "code",
   "execution_count": 5,
   "id": "46bf771e-72e2-4f43-884f-0ae16a3414a5",
   "metadata": {
    "tags": []
   },
   "outputs": [],
   "source": [
    "def find_highest_bidder(bidding_dictionary):\n",
    "    winner=\"\"\n",
    "    highest_bid=0\n",
    "    max(bidding_dictionary)\n",
    "    for bidder in bidding_dictionary:\n",
    "        bid_amount=bidding_dictionary[bidder]\n",
    "        if bid_amount>highest_bid:\n",
    "            highest_bid=bid_amount\n",
    "            winner=bidder\n",
    "    print(f\"The winner is {winner} with a bid of ${highest_bid}.\")     "
   ]
  },
  {
   "cell_type": "code",
   "execution_count": null,
   "id": "a73b27df-89d6-4bbf-b26a-b952bba60003",
   "metadata": {
    "tags": []
   },
   "outputs": [
    {
     "name": "stdin",
     "output_type": "stream",
     "text": [
      "What's you're name?:  mano\n",
      "Whats' you're price?:$ 70\n",
      "Are there any other bidding? TYpe 'yes' or 'no'.\n",
      " yes\n"
     ]
    },
    {
     "name": "stdout",
     "output_type": "stream",
     "text": [
      "\n",
      "\n",
      "\n",
      "\n",
      "\n",
      "\n",
      "\n",
      "\n",
      "\n",
      "\n",
      "\n",
      "\n",
      "\n",
      "\n",
      "\n",
      "\n",
      "\n",
      "\n",
      "\n",
      "\n",
      "\n"
     ]
    },
    {
     "name": "stdin",
     "output_type": "stream",
     "text": [
      "What's you're name?:  zain\n",
      "Whats' you're price?:$ 78\n",
      "Are there any other bidding? TYpe 'yes' or 'no'.\n",
      " no\n"
     ]
    },
    {
     "name": "stdout",
     "output_type": "stream",
     "text": [
      "The winner is zain with a bid of $78.\n"
     ]
    }
   ],
   "source": [
    "bids={}\n",
    "continue_biding=True\n",
    "while continue_biding:\n",
    "    name=input(\"What's you're name?: \")\n",
    "    price=int(input(\"Whats' you're price?:$\"))\n",
    "    bids[name]=price\n",
    "    should_continue=input(\"Are there any other bidding? TYpe 'yes' or 'no'.\\n\")\n",
    "    if should_continue==\"no\":\n",
    "        continue_bidding=False\n",
    "        find_highest_bidder(bids)\n",
    "    elif should_continue==\"yes\":  \n",
    "        print(\"\\n\"*20)"
   ]
  },
  {
   "cell_type": "code",
   "execution_count": null,
   "id": "6bcb9db9-4dac-4a76-973d-5fb8fe722729",
   "metadata": {},
   "outputs": [],
   "source": []
  },
  {
   "cell_type": "code",
   "execution_count": null,
   "id": "e6d57437-f22c-46dd-b2bf-360993cbdc9f",
   "metadata": {},
   "outputs": [],
   "source": []
  }
 ],
 "metadata": {
  "kernelspec": {
   "display_name": "Python 3.11 (ipykernel)",
   "language": "python",
   "name": "python3"
  },
  "language_info": {
   "codemirror_mode": {
    "name": "ipython",
    "version": 3
   },
   "file_extension": ".py",
   "mimetype": "text/x-python",
   "name": "python",
   "nbconvert_exporter": "python",
   "pygments_lexer": "ipython3",
   "version": "3.11.6"
  }
 },
 "nbformat": 4,
 "nbformat_minor": 5
}
