{
 "cells": [
  {
   "cell_type": "code",
   "execution_count": 17,
   "id": "4ba4e266-8d60-4915-9ce2-51e326f928ab",
   "metadata": {
    "tags": []
   },
   "outputs": [],
   "source": [
    "import random"
   ]
  },
  {
   "cell_type": "code",
   "execution_count": 27,
   "id": "12fcbba8-16cf-4727-8cc1-812a8575dac3",
   "metadata": {
    "tags": []
   },
   "outputs": [],
   "source": [
    "def deal_card():\n",
    "    cards = [11, 2, 3, 4, 5, 6, 7, 8, 9, 10, 10, 10, 10]\n",
    "    return random.choice(cards)"
   ]
  },
  {
   "cell_type": "code",
   "execution_count": null,
   "id": "a984c134-7ce6-4091-8251-9f51a163b330",
   "metadata": {
    "tags": []
   },
   "outputs": [],
   "source": [
    "def calculate_score(cards):\n",
    "    # Check for Blackjack (Ace + 10)\n",
    "    if sum(cards) == 21 and len(cards) == 2:\n",
    "        return 0  # Representing Blackjack\n",
    "    \n",
    "    # Adjust Ace value if score is over 21\n",
    "    while 11 in cards and sum(cards) > 21:\n",
    "        cards.remove(11)\n",
    "        cards.append(1)\n",
    "    \n",
    "    return sum(cards)"
   ]
  },
  {
   "cell_type": "code",
   "execution_count": null,
   "id": "0bcfceaf-df5a-40c4-a4cb-124939fda085",
   "metadata": {
    "tags": []
   },
   "outputs": [],
   "source": [
    "def compare(user_score, computer_score):\n",
    "    if user_score == computer_score:\n",
    "        return \"Draw 🙃\"\n",
    "    elif computer_score == 0:\n",
    "        return \"You lose, opponent has Blackjack 😱\"\n",
    "    elif user_score == 0:\n",
    "        return \"Win with a Blackjack 😎\"\n",
    "    elif user_score > 21:\n",
    "        return \"You went over. You lose \"\n",
    "    elif computer_score > 21:\n",
    "        return \"Opponent went over. You win \"\n",
    "    elif user_score > computer_score:\n",
    "        return \"You win \"\n",
    "    else:\n",
    "        return \"You lose \""
   ]
  },
  {
   "cell_type": "code",
   "execution_count": null,
   "id": "ba3ba69d-b45b-4048-a28a-d2ef9187cff7",
   "metadata": {},
   "outputs": [],
   "source": [
    "def play_game():\n",
    "    print(\"Welcome to Blackjack \")\n",
    "\n",
    "    user_cards = []\n",
    "    computer_cards = []\n",
    "    is_game_over = False   \n",
    "    for _ in range(2):\n",
    "        user_cards.append(deal_card())\n",
    "        computer_cards.append(deal_card())\n",
    "\n",
    "    while not is_game_over:\n",
    "        user_score = calculate_score(user_cards)\n",
    "        computer_score = calculate_score(computer_cards)\n",
    "\n",
    "        print(f\"\\nYour cards: {user_cards}, current score: {user_score}\")\n",
    "        print(f\"Computer's first card: {computer_cards[0]}\")\n",
    "\n",
    "        if user_score == 0 or computer_score == 0 or user_score > 21:\n",
    "            is_game_over = True\n",
    "        else:\n",
    "            user_should_deal = input(\"Type 'y' to get another card, type 'n' to pass: \").lower()\n",
    "            if user_should_deal == 'y':\n",
    "                user_cards.append(deal_card())\n",
    "            else:\n",
    "                is_game_over = True\n",
    "    while computer_score != 0 and computer_score < 17:\n",
    "        computer_cards.append(deal_card())\n",
    "        computer_score = calculate_score(computer_cards)\n",
    "\n",
    "    print(f\"\\nYour final hand: {user_cards}, final score: {user_score}\")\n",
    "    print(f\"Computer's final hand: {computer_cards}, final score: {computer_score}\")\n",
    "    print(compare(user_score, computer_score))\n"
   ]
  },
  {
   "cell_type": "code",
   "execution_count": null,
   "id": "7c262d2a-dea2-4583-ac64-2b765faf1c68",
   "metadata": {},
   "outputs": [],
   "source": [
    "while input(\"Do you want to play a game of Blackjack? Type 'y' or 'n': \").lower() == 'y':\n",
    "    print(\"\\n\" * 2)\n",
    "    play_game()"
   ]
  },
  {
   "cell_type": "code",
   "execution_count": null,
   "id": "8de0936a-9db1-440c-a451-f6b1b2a737f9",
   "metadata": {},
   "outputs": [],
   "source": []
  },
  {
   "cell_type": "code",
   "execution_count": null,
   "id": "f8681dd9-f787-45db-a333-c235fe3ab509",
   "metadata": {},
   "outputs": [],
   "source": []
  },
  {
   "cell_type": "code",
   "execution_count": null,
   "id": "63727369-da40-4129-97ca-4d152ec3f79b",
   "metadata": {},
   "outputs": [],
   "source": []
  },
  {
   "cell_type": "code",
   "execution_count": null,
   "id": "481436a4-4932-4fbe-8958-2f3a4b868943",
   "metadata": {},
   "outputs": [],
   "source": []
  },
  {
   "cell_type": "code",
   "execution_count": null,
   "id": "caa24f7f-d749-4cbd-9d92-2f7228b3b25f",
   "metadata": {},
   "outputs": [],
   "source": []
  },
  {
   "cell_type": "code",
   "execution_count": null,
   "id": "4035525b-c610-4d6f-9ac4-7703d30ea5f6",
   "metadata": {},
   "outputs": [],
   "source": []
  },
  {
   "cell_type": "code",
   "execution_count": null,
   "id": "d3d23776-d958-4b7d-b231-c2e8b7682df7",
   "metadata": {},
   "outputs": [],
   "source": []
  },
  {
   "cell_type": "code",
   "execution_count": null,
   "id": "f110841d-96c8-49f3-8901-cd38a1d40bac",
   "metadata": {},
   "outputs": [],
   "source": []
  },
  {
   "cell_type": "code",
   "execution_count": null,
   "id": "f617aa14-d35b-4843-b6f4-af0b98258a93",
   "metadata": {},
   "outputs": [],
   "source": []
  },
  {
   "cell_type": "code",
   "execution_count": null,
   "id": "0bc58ab5-0d8b-4e72-9ece-15a69fd9a1b6",
   "metadata": {},
   "outputs": [],
   "source": []
  }
 ],
 "metadata": {
  "kernelspec": {
   "display_name": "Python 3.11 (ipykernel)",
   "language": "python",
   "name": "python3"
  },
  "language_info": {
   "codemirror_mode": {
    "name": "ipython",
    "version": 3
   },
   "file_extension": ".py",
   "mimetype": "text/x-python",
   "name": "python",
   "nbconvert_exporter": "python",
   "pygments_lexer": "ipython3",
   "version": "3.11.6"
  }
 },
 "nbformat": 4,
 "nbformat_minor": 5
}
