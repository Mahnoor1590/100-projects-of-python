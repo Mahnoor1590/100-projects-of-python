{
 "cells": [
  {
   "cell_type": "markdown",
   "id": "8fffae49-cb87-4b36-862e-7de3ee9a79df",
   "metadata": {},
   "source": [
    " --- Arithmetic Operation Functions ---\n",
    " These functions perform basic mathematical operations.\n",
    " Each takes two numeric inputs and returns the result."
   ]
  },
  {
   "cell_type": "code",
   "execution_count": 55,
   "id": "9208c933-9708-4a85-91f8-af0b2cc3d063",
   "metadata": {
    "tags": []
   },
   "outputs": [],
   "source": [
    "def add(n1 ,n2):\n",
    "    return n1+n2\n",
    "def subtract(n1,n2):\n",
    "    return n1-n2\n",
    "def divide(n1,n2):\n",
    "    return n1 /n2\n",
    "def multiply(n1,n2):\n",
    "    return n1*n2"
   ]
  },
  {
   "cell_type": "markdown",
   "id": "c8b7ec9e-ab2a-462e-9c03-9d0ab2e045a8",
   "metadata": {},
   "source": [
    "--- Operation Mapping Dictionary ---\n",
    " Maps arithmetic symbols to their corresponding function.\n",
    " Used to dynamically select the correct operation based on user input."
   ]
  },
  {
   "cell_type": "code",
   "execution_count": 56,
   "id": "54251696-f3ce-46d0-b8e6-e6c8ce151c4f",
   "metadata": {
    "tags": []
   },
   "outputs": [],
   "source": [
    "operations= {\n",
    "    \"+\":add,\n",
    "    \"-\":subtract,\n",
    "    \"*\":multiply,\n",
    "    \"/\":divide,\n",
    "}"
   ]
  },
  {
   "cell_type": "markdown",
   "id": "b541d056-5d6e-4c36-91a9-ddb014845879",
   "metadata": {},
   "source": [
    " --- Calculator Function ---\n",
    " Continuously performs calculations based on user input.\n",
    " Prompts for the first number, then loops through operations.\n",
    " Allows the user to continue chaining calculations or exit."
   ]
  },
  {
   "cell_type": "code",
   "execution_count": 57,
   "id": "efbd8ca0-56b4-4819-8971-2fa89848a229",
   "metadata": {
    "tags": []
   },
   "outputs": [],
   "source": [
    "def calculator():\n",
    "    should_accumulate=True\n",
    "    num1=float(input(\"What's the first number\"))\n",
    "    while should_accumulate:\n",
    "        for symbol in operations:\n",
    "            operation_symbol=input(\"Pick an operation\")\n",
    "            num2=float(input(\"Whats is the next number?:\"))\n",
    "            answer=operations[operation_symbol](num1,num2)\n",
    "            print(f\"{num1} {operation_symbol} {num2} = {answer}\")\n",
    "            choice=input(f\"type 'y' tp continue calculating with {answer}, or type 'n'\")\n",
    "            if choice =='y':\n",
    "                num1=answer\n",
    "            else:\n",
    "                should_accumulate=False\n",
    "                print(\"\\n\" * 20)        "
   ]
  },
  {
   "cell_type": "code",
   "execution_count": null,
   "id": "7a16d88f-05d5-4252-82a6-27654a98443e",
   "metadata": {},
   "outputs": [],
   "source": [
    "calculator()"
   ]
  },
  {
   "cell_type": "code",
   "execution_count": null,
   "id": "3eb3ff91-58c5-47c7-92b8-69ca55a29ba5",
   "metadata": {},
   "outputs": [],
   "source": []
  },
  {
   "cell_type": "code",
   "execution_count": null,
   "id": "99602a8a-77cf-428d-8d9e-ac03e22f54cf",
   "metadata": {},
   "outputs": [],
   "source": []
  }
 ],
 "metadata": {
  "kernelspec": {
   "display_name": "Python 3.11 (ipykernel)",
   "language": "python",
   "name": "python3"
  },
  "language_info": {
   "codemirror_mode": {
    "name": "ipython",
    "version": 3
   },
   "file_extension": ".py",
   "mimetype": "text/x-python",
   "name": "python",
   "nbconvert_exporter": "python",
   "pygments_lexer": "ipython3",
   "version": "3.11.6"
  }
 },
 "nbformat": 4,
 "nbformat_minor": 5
}
