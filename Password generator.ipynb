{
 "cells": [
  {
   "cell_type": "markdown",
   "id": "af3824eb",
   "metadata": {},
   "source": [
    "Password Generator "
   ]
  },
  {
   "cell_type": "code",
   "execution_count": 27,
   "id": "72d15574",
   "metadata": {},
   "outputs": [],
   "source": [
    "import random"
   ]
  },
  {
   "cell_type": "code",
   "execution_count": 28,
   "id": "2abbdf60",
   "metadata": {},
   "outputs": [],
   "source": [
    "letters=['a','b','c','d','e','f','g','h','i','j','h','k','l','m','n','o','p','q','r','s','t','u','v','x','y','z]']"
   ]
  },
  {
   "cell_type": "code",
   "execution_count": 29,
   "id": "644dfed6",
   "metadata": {},
   "outputs": [],
   "source": [
    "numbers=['1','2','3','4','5','6','7','8','9','10']"
   ]
  },
  {
   "cell_type": "code",
   "execution_count": 30,
   "id": "184cc124",
   "metadata": {},
   "outputs": [],
   "source": [
    "symbols=['!','@','#','$','%','^','&','*','(',')']"
   ]
  },
  {
   "cell_type": "code",
   "execution_count": 31,
   "id": "da859030",
   "metadata": {},
   "outputs": [
    {
     "name": "stdout",
     "output_type": "stream",
     "text": [
      "welocome tp the passowrd generator!\n"
     ]
    }
   ],
   "source": [
    "print(\"welocome tp the passowrd generator!\")"
   ]
  },
  {
   "cell_type": "code",
   "execution_count": 32,
   "id": "5a0b4b65",
   "metadata": {},
   "outputs": [
    {
     "name": "stdout",
     "output_type": "stream",
     "text": [
      "how many letter you want?3\n"
     ]
    }
   ],
   "source": [
    "nr_letter=int(input(\"how many letter you want?\"))"
   ]
  },
  {
   "cell_type": "code",
   "execution_count": 33,
   "id": "e878a2b3",
   "metadata": {},
   "outputs": [
    {
     "name": "stdout",
     "output_type": "stream",
     "text": [
      "how many symbols you want?3\n"
     ]
    }
   ],
   "source": [
    "nr_symbols=int(input(\"how many symbols you want?\"))"
   ]
  },
  {
   "cell_type": "code",
   "execution_count": 34,
   "id": "74f3324d",
   "metadata": {},
   "outputs": [
    {
     "name": "stdout",
     "output_type": "stream",
     "text": [
      "how many nu,ber you want3\n"
     ]
    }
   ],
   "source": [
    "nr_number=int(input(\"how many nu,ber you want\"))"
   ]
  },
  {
   "cell_type": "code",
   "execution_count": 35,
   "id": "6d007de5",
   "metadata": {},
   "outputs": [],
   "source": [
    "password=\"\""
   ]
  },
  {
   "cell_type": "code",
   "execution_count": 36,
   "id": "91e8c75a",
   "metadata": {},
   "outputs": [
    {
     "name": "stdout",
     "output_type": "stream",
     "text": [
      "a\n",
      "ao\n",
      "aot\n"
     ]
    }
   ],
   "source": [
    "for char in range(1,nr_letter+1):\n",
    "    random_char=random.choice(letters)\n",
    "    password+=random_char"
   ]
  },
  {
   "cell_type": "code",
   "execution_count": 37,
   "id": "4d18e7f8",
   "metadata": {},
   "outputs": [
    {
     "name": "stdout",
     "output_type": "stream",
     "text": [
      "aot(\n",
      "aot(#\n",
      "aot(#%\n"
     ]
    }
   ],
   "source": [
    "for char in range(1,nr_symbols+1):\n",
    "    password +=random.choice(symbol)"
   ]
  },
  {
   "cell_type": "code",
   "execution_count": 38,
   "id": "fc15d41b",
   "metadata": {},
   "outputs": [
    {
     "name": "stdout",
     "output_type": "stream",
     "text": [
      "aot(#%10\n",
      "aot(#%107\n",
      "aot(#%10710\n"
     ]
    }
   ],
   "source": [
    "for char in range(1,nr_number+1):\n",
    "    password+=random.choice(numbers)"
   ]
  },
  {
   "cell_type": "markdown",
   "id": "b88cb824",
   "metadata": {},
   "source": [
    "We used list here because random.shuffle dont work with strings but with lists"
   ]
  },
  {
   "cell_type": "code",
   "execution_count": 46,
   "id": "16000cbf",
   "metadata": {},
   "outputs": [
    {
     "name": "stdout",
     "output_type": "stream",
     "text": [
      "0#%(1oa710t\n"
     ]
    }
   ],
   "source": [
    "password_list=list(password)\n",
    "random.shuffle(password_list)\n",
    "hard_level=''.join(password_list)\n",
    "print(hard_level)"
   ]
  },
  {
   "cell_type": "code",
   "execution_count": null,
   "id": "0e6a30c7",
   "metadata": {},
   "outputs": [],
   "source": []
  },
  {
   "cell_type": "code",
   "execution_count": null,
   "id": "01cd3e0b",
   "metadata": {},
   "outputs": [],
   "source": []
  }
 ],
 "metadata": {
  "kernelspec": {
   "display_name": "Python 3 (ipykernel)",
   "language": "python",
   "name": "python3"
  },
  "language_info": {
   "codemirror_mode": {
    "name": "ipython",
    "version": 3
   },
   "file_extension": ".py",
   "mimetype": "text/x-python",
   "name": "python",
   "nbconvert_exporter": "python",
   "pygments_lexer": "ipython3",
   "version": "3.10.11"
  }
 },
 "nbformat": 4,
 "nbformat_minor": 5
}
