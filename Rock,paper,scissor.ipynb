{
 "cells": [
  {
   "cell_type": "markdown",
   "id": "8be59e6e",
   "metadata": {},
   "source": [
    "Rock-Paper-Scissors Game A simple Python game where the user plays Rock-Paper-Scissors against the computer. It uses random.choice() to select the computer's \n",
    "move and conditional logic to determine the winner. Great for practicing input handling, control flow, and basic game mechanics."
   ]
  },
  {
   "cell_type": "code",
   "execution_count": 31,
   "id": "9f5cd8d3",
   "metadata": {},
   "outputs": [],
   "source": [
    "import random"
   ]
  },
  {
   "cell_type": "code",
   "execution_count": 32,
   "id": "297eebe8",
   "metadata": {},
   "outputs": [
    {
     "name": "stdout",
     "output_type": "stream",
     "text": [
      "what would you choose? rock , paper, scissorno\n",
      "you chose: no\n"
     ]
    }
   ],
   "source": [
    "user_choice=input(\"what would you choose? rock , paper, scissor\").lower()\n",
    "print(\"you chose:\", user_choice)"
   ]
  },
  {
   "cell_type": "code",
   "execution_count": 33,
   "id": "065fb87a",
   "metadata": {},
   "outputs": [
    {
     "name": "stdout",
     "output_type": "stream",
     "text": [
      "computer choose: paper\n"
     ]
    }
   ],
   "source": [
    "computer_option=['rock','paper','scissor']\n",
    "computer_choice= random.choice(computer_option)\n",
    "print(\"computer choose:\", computer_choice)"
   ]
  },
  {
   "cell_type": "code",
   "execution_count": 34,
   "id": "d2c33e05",
   "metadata": {},
   "outputs": [
    {
     "name": "stdout",
     "output_type": "stream",
     "text": [
      "you choose invalid number\n"
     ]
    }
   ],
   "source": [
    "if user_choice == computer_choice:\n",
    "    print(\"its a tie\")\n",
    "elif user_choice == \"rock\":\n",
    "    if computer_choice==\"scissor\":\n",
    "        print(\"you win\")\n",
    "    else:\n",
    "        print(\"you lose\")\n",
    "elif user_choice ==\" scissor\":\n",
    "    if computer_choice == \"paper\":\n",
    "        print(\"you win\")\n",
    "    else:\n",
    "        print(\"you lose\")\n",
    "elif user_choice == \"paper\":\n",
    "    if computer_choice ==\"rock\":\n",
    "        print(\"you win \")\n",
    "    else:\n",
    "        print(\"you lose\")\n",
    "else:\n",
    "    print(\"you choose invalid number\")\n",
    "        "
   ]
  },
  {
   "cell_type": "code",
   "execution_count": null,
   "id": "8ea6cbd2",
   "metadata": {},
   "outputs": [],
   "source": []
  },
  {
   "cell_type": "code",
   "execution_count": null,
   "id": "4d293441",
   "metadata": {},
   "outputs": [],
   "source": []
  }
 ],
 "metadata": {
  "kernelspec": {
   "display_name": "Python 3 (ipykernel)",
   "language": "python",
   "name": "python3"
  },
  "language_info": {
   "codemirror_mode": {
    "name": "ipython",
    "version": 3
   },
   "file_extension": ".py",
   "mimetype": "text/x-python",
   "name": "python",
   "nbconvert_exporter": "python",
   "pygments_lexer": "ipython3",
   "version": "3.10.11"
  }
 },
 "nbformat": 4,
 "nbformat_minor": 5
}
