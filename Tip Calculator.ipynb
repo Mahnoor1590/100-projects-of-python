{
 "cells": [
  {
   "cell_type": "markdown",
   "id": "bab234b6-8524-4047-a08d-a0ffa6a317fd",
   "metadata": {},
   "source": [
    "2nd Python project"
   ]
  },
  {
   "cell_type": "markdown",
   "id": "be12b942-1487-4993-a885-8f04f7a82a27",
   "metadata": {},
   "source": [
    "Tip Calculator – Calculates how much each \n",
    "person should pay when splitting a bill, including a tip percentage.\n",
    "Uses user input, type conversion, and basic arithmetic."
   ]
  },
  {
   "cell_type": "code",
   "execution_count": 28,
   "id": "5ebc9d55-8971-4208-b849-c331ef199f45",
   "metadata": {
    "tags": []
   },
   "outputs": [
    {
     "name": "stdout",
     "output_type": "stream",
     "text": [
      "Welcome to the tip calculator!\n"
     ]
    }
   ],
   "source": [
    "print(\"Welcome to the tip calculator!\")"
   ]
  },
  {
   "cell_type": "code",
   "execution_count": null,
   "id": "9f78e777-1d8e-4b0e-904a-4ce1a3130ace",
   "metadata": {
    "tags": []
   },
   "outputs": [],
   "source": [
    "bill=float(input(\"What was the total bill? $\"))"
   ]
  },
  {
   "cell_type": "code",
   "execution_count": 7,
   "id": "2f61ac44-4fec-4e8d-9cd9-3a2b6f7c1fc5",
   "metadata": {
    "tags": []
   },
   "outputs": [
    {
     "name": "stdin",
     "output_type": "stream",
     "text": [
      "What percentage tip would you like to give ? 10 12 15? 10\n"
     ]
    }
   ],
   "source": [
    "tip=int(input(\"What percentage tip would you like to give ? 10 12 15?\"))"
   ]
  },
  {
   "cell_type": "code",
   "execution_count": 20,
   "id": "644ac3b5-9f16-4d44-b529-c0c43e106523",
   "metadata": {
    "tags": []
   },
   "outputs": [
    {
     "name": "stdin",
     "output_type": "stream",
     "text": [
      "How many people to split the bill? 5\n"
     ]
    }
   ],
   "source": [
    "people=int(input(\"How many people to split the bill?\"))"
   ]
  },
  {
   "cell_type": "code",
   "execution_count": 21,
   "id": "74264d1d-48e9-44ca-8c33-d2cdb2dfab98",
   "metadata": {
    "tags": []
   },
   "outputs": [],
   "source": [
    "tip_as_percent=tip/100"
   ]
  },
  {
   "cell_type": "code",
   "execution_count": 22,
   "id": "856327cd-e998-4179-bca9-e831200fe5a8",
   "metadata": {
    "tags": []
   },
   "outputs": [],
   "source": [
    "total_tip_amount=bill*tip_as_percent"
   ]
  },
  {
   "cell_type": "code",
   "execution_count": 23,
   "id": "e180ce30-e27d-4245-aa4e-9caeb389a75c",
   "metadata": {
    "tags": []
   },
   "outputs": [],
   "source": [
    "total_bill=bill*total_tip_amount"
   ]
  },
  {
   "cell_type": "code",
   "execution_count": 24,
   "id": "415c7ff4-fe4f-4dbc-b68d-f406669d8db9",
   "metadata": {
    "tags": []
   },
   "outputs": [],
   "source": [
    "bill_per_person=total_bill/people"
   ]
  },
  {
   "cell_type": "code",
   "execution_count": 25,
   "id": "b6f5bf66-35fd-4510-a250-788b8c899207",
   "metadata": {
    "tags": []
   },
   "outputs": [],
   "source": [
    "final_amount=round(bill_per_person,2)"
   ]
  },
  {
   "cell_type": "code",
   "execution_count": 27,
   "id": "a5a1c43e-84f3-4582-855d-be71dd52bbaf",
   "metadata": {
    "tags": []
   },
   "outputs": [
    {
     "name": "stdout",
     "output_type": "stream",
     "text": [
      "Each person should pay: $100.0\n"
     ]
    }
   ],
   "source": [
    "print(f\"Each person should pay: ${final_amount}\")"
   ]
  },
  {
   "cell_type": "code",
   "execution_count": null,
   "id": "716a564b-309a-44dc-a2d5-e261a2866263",
   "metadata": {},
   "outputs": [],
   "source": []
  }
 ],
 "metadata": {
  "kernelspec": {
   "display_name": "Python 3.11 (ipykernel)",
   "language": "python",
   "name": "python3"
  },
  "language_info": {
   "codemirror_mode": {
    "name": "ipython",
    "version": 3
   },
   "file_extension": ".py",
   "mimetype": "text/x-python",
   "name": "python",
   "nbconvert_exporter": "python",
   "pygments_lexer": "ipython3",
   "version": "3.11.6"
  }
 },
 "nbformat": 4,
 "nbformat_minor": 5
}
