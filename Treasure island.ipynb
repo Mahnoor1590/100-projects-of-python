{
 "cells": [
  {
   "cell_type": "code",
   "execution_count": 10,
   "id": "8969c03f-9041-48d0-99ef-7c08e45443cf",
   "metadata": {
    "tags": []
   },
   "outputs": [
    {
     "name": "stdout",
     "output_type": "stream",
     "text": [
      "Welcome to treaure island.\n"
     ]
    }
   ],
   "source": [
    "print(\"Welcome to treaure island.\")"
   ]
  },
  {
   "cell_type": "code",
   "execution_count": 11,
   "id": "1f1d9140-19b2-44ff-9132-7c9d85825427",
   "metadata": {
    "tags": []
   },
   "outputs": [
    {
     "name": "stdout",
     "output_type": "stream",
     "text": [
      "Your mission is tp find the treasure.\n"
     ]
    }
   ],
   "source": [
    "print(\"Your mission is tp find the treasure.\")"
   ]
  },
  {
   "cell_type": "code",
   "execution_count": 23,
   "id": "fca755bb-f5e8-4caa-ab4a-ab8641ecd1dd",
   "metadata": {
    "tags": []
   },
   "outputs": [
    {
     "name": "stdin",
     "output_type": "stream",
     "text": [
      "you'reat a cossroad. where do you want to go? Type \"left \" or \"right\". left\n"
     ]
    }
   ],
   "source": [
    "choice1=input('you\\'reat a cossroad. where do you want to go? Type \"left \" or \"right\".').lower()  "
   ]
  },
  {
   "cell_type": "code",
   "execution_count": 24,
   "id": "bc84b6a9-a310-49d3-9fa8-4d3033eb188f",
   "metadata": {
    "tags": []
   },
   "outputs": [
    {
     "name": "stdin",
     "output_type": "stream",
     "text": [
      "you're come to a lake.There is an island in the middle of the lake.Type \"wait\" to wait for a boat.Type \"swim\" to swim across. swim\n"
     ]
    }
   ],
   "source": [
    " if choice1==\"left\":\n",
    "    choice2=input('you\\'re come to a lake.'\n",
    "                 'There is an island in the middle of the lake.'\n",
    "                 'Type \"wait\" to wait for a boat.'\n",
    "                 'Type \"swim\" to swim across.').lower()"
   ]
  },
  {
   "cell_type": "code",
   "execution_count": 32,
   "id": "6d1f73a8-0c20-4ad8-8aec-20b59e7a78ac",
   "metadata": {
    "tags": []
   },
   "outputs": [],
   "source": [
    "if choice2==\"wait\":\n",
    "    choice2=input(\"You arrive at the island unharmed.\"\n",
    "                  \"There is house with 3 doors.One red.\"\n",
    "                  \"One Yellow and one blue.\"\n",
    "                  \"Which color do you choose?\").lower()"
   ]
  },
  {
   "cell_type": "code",
   "execution_count": 46,
   "id": "aafacb52-4abb-4b8b-9984-f781e4f663dc",
   "metadata": {
    "tags": []
   },
   "outputs": [
    {
     "ename": "NameError",
     "evalue": "name 'choice3' is not defined",
     "output_type": "error",
     "traceback": [
      "\u001b[0;31m---------------------------------------------------------------------------\u001b[0m",
      "\u001b[0;31mNameError\u001b[0m                                 Traceback (most recent call last)",
      "Cell \u001b[0;32mIn[46], line 1\u001b[0m\n\u001b[0;32m----> 1\u001b[0m \u001b[38;5;28;01mif\u001b[39;00m \u001b[43mchoice3\u001b[49m\u001b[38;5;241m==\u001b[39m\u001b[38;5;124m\"\u001b[39m\u001b[38;5;124mred\u001b[39m\u001b[38;5;124m\"\u001b[39m:\n\u001b[1;32m      2\u001b[0m     \u001b[38;5;28mprint\u001b[39m(\u001b[38;5;124m\"\u001b[39m\u001b[38;5;124mIts a room full of fire. Game over\u001b[39m\u001b[38;5;124m\"\u001b[39m)\n\u001b[1;32m      3\u001b[0m \u001b[38;5;28;01melif\u001b[39;00m choice3\u001b[38;5;241m==\u001b[39m\u001b[38;5;124m\"\u001b[39m\u001b[38;5;124myellow\u001b[39m\u001b[38;5;124m\"\u001b[39m:\n",
      "\u001b[0;31mNameError\u001b[0m: name 'choice3' is not defined"
     ]
    }
   ],
   "source": [
    "if choice3==\"red\":\n",
    "    print(\"Its a room full of fire. Game over\")\n",
    "elif choice3==\"yellow\":\n",
    "        print(\"You found the treasure.You WIN\")\n",
    "elif choice3==\"blue\":\n",
    "        print(\"You enter a room of beasets. Game over.\")\n",
    "else: \n",
    "    print(\"You enter in a room full of beast. Game over\")\n",
    "       "
   ]
  },
  {
   "cell_type": "code",
   "execution_count": null,
   "id": "7e10c0b4-cb66-418c-ae5d-68479071588d",
   "metadata": {},
   "outputs": [],
   "source": []
  },
  {
   "cell_type": "code",
   "execution_count": null,
   "id": "0d1574ec-314b-4e34-a6d8-96639580f0d9",
   "metadata": {},
   "outputs": [],
   "source": []
  },
  {
   "cell_type": "code",
   "execution_count": null,
   "id": "016339fa-3d46-4b98-91c1-2ca553cf9eaf",
   "metadata": {},
   "outputs": [],
   "source": []
  },
  {
   "cell_type": "code",
   "execution_count": null,
   "id": "08d24bec-47ac-47f1-9d49-8d1d5fea9733",
   "metadata": {},
   "outputs": [],
   "source": []
  },
  {
   "cell_type": "code",
   "execution_count": null,
   "id": "ff6516ce-3c7f-40ef-b06c-86f6918ef2c7",
   "metadata": {},
   "outputs": [],
   "source": []
  },
  {
   "cell_type": "code",
   "execution_count": null,
   "id": "1c57bc1a-6a0a-4344-8266-3b7fa6fa1a78",
   "metadata": {},
   "outputs": [],
   "source": []
  },
  {
   "cell_type": "code",
   "execution_count": null,
   "id": "a05f9ce4-261e-4631-be18-b5c292112adf",
   "metadata": {},
   "outputs": [],
   "source": []
  }
 ],
 "metadata": {
  "kernelspec": {
   "display_name": "Python 3.11 (ipykernel)",
   "language": "python",
   "name": "python3"
  },
  "language_info": {
   "codemirror_mode": {
    "name": "ipython",
    "version": 3
   },
   "file_extension": ".py",
   "mimetype": "text/x-python",
   "name": "python",
   "nbconvert_exporter": "python",
   "pygments_lexer": "ipython3",
   "version": "3.11.6"
  }
 },
 "nbformat": 4,
 "nbformat_minor": 5
}
