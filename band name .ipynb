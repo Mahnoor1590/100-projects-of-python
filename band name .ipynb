{
 "cells": [
  {
   "cell_type": "markdown",
   "id": "0036bc9c-726d-411b-ba35-7a3ffe5eed4a",
   "metadata": {},
   "source": [
    "1st Project of 100 Days of code"
   ]
  },
  {
   "cell_type": "markdown",
   "id": "16e239cd-b91c-4947-beef-a08451796c7f",
   "metadata": {},
   "source": [
    "Band Name Generator-A fun beginner python \n",
    "project that creates quirky band names \n",
    "using user input."
   ]
  },
  {
   "cell_type": "code",
   "execution_count": 5,
   "id": "f1fb7acd-5093-4aa8-b39f-dddf1281b1c9",
   "metadata": {
    "tags": []
   },
   "outputs": [
    {
     "name": "stdout",
     "output_type": "stream",
     "text": [
      "Welcome to the band Name Generator.\n"
     ]
    }
   ],
   "source": [
    "print(\"Welcome to the band Name Generator.\")"
   ]
  },
  {
   "cell_type": "code",
   "execution_count": 6,
   "id": "b76ee75d-b4b9-406b-97f9-3db1993e4e60",
   "metadata": {
    "tags": []
   },
   "outputs": [
    {
     "name": "stdin",
     "output_type": "stream",
     "text": [
      "Which city did you grow up in? lahore\n"
     ]
    }
   ],
   "source": [
    "city=input(\"Which city did you grow up in?\")"
   ]
  },
  {
   "cell_type": "code",
   "execution_count": 7,
   "id": "98132e25-6189-4d8e-bb11-0fe35496235f",
   "metadata": {
    "tags": []
   },
   "outputs": [
    {
     "name": "stdin",
     "output_type": "stream",
     "text": [
      "What is the name of a pet? kuku\n"
     ]
    }
   ],
   "source": [
    "pet=input(\"What is the name of a pet?\")"
   ]
  },
  {
   "cell_type": "code",
   "execution_count": 8,
   "id": "b7914ed9-cc1e-48f7-9f48-164c2d3ebb1d",
   "metadata": {
    "tags": []
   },
   "outputs": [
    {
     "name": "stdout",
     "output_type": "stream",
     "text": [
      "Your band name could be:lahorekuku\n"
     ]
    }
   ],
   "source": [
    "print(\"Your band name could be:\"+city +\"\"+pet)"
   ]
  },
  {
   "cell_type": "code",
   "execution_count": null,
   "id": "e5ecfce9-83b6-4002-af76-293233c15255",
   "metadata": {},
   "outputs": [],
   "source": []
  }
 ],
 "metadata": {
  "kernelspec": {
   "display_name": "Python 3.11 (ipykernel)",
   "language": "python",
   "name": "python3"
  },
  "language_info": {
   "codemirror_mode": {
    "name": "ipython",
    "version": 3
   },
   "file_extension": ".py",
   "mimetype": "text/x-python",
   "name": "python",
   "nbconvert_exporter": "python",
   "pygments_lexer": "ipython3",
   "version": "3.11.6"
  }
 },
 "nbformat": 4,
 "nbformat_minor": 5
}
