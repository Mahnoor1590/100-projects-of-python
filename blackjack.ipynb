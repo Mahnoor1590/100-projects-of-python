{
 "cells": [
  {
   "cell_type": "code",
   "execution_count": 3,
   "id": "6c280a3c-42bb-42d0-91ea-fce26da7e9ad",
   "metadata": {
    "tags": []
   },
   "outputs": [
    {
     "name": "stdout",
     "output_type": "stream",
     "text": [
      "*** Welcome to blackjack game ***\n"
     ]
    }
   ],
   "source": [
    "print(\"*** Welcome to blackjack game ***\")\n",
    "import random\n",
    "# Card deck with values (Ace=11, face cards=10)\n",
    "cards = (11, 2, 3, 4, 5, 6, 7, 8, 9, 10, 10, 10, 10)\n"
   ]
  },
  {
   "cell_type": "code",
   "execution_count": 7,
   "id": "62e35f89-c89f-4dad-8a8a-150e4a5632c1",
   "metadata": {
    "tags": []
   },
   "outputs": [
    {
     "name": "stdout",
     "output_type": "stream",
     "text": [
      "Your cards [10, 8], current score: 18\n"
     ]
    }
   ],
   "source": [
    " #User's initial hand\n",
    "user_num1 = random.choice(cards)\n",
    "user_num2 = random.choice(cards)\n",
    "user_number = user_num1 + user_num2\n",
    "user_numbers = (user_num1, user_num2)\n",
    "print(f\"Your cards [{user_num1}, {user_num2}], current score: {user_number}\")\n"
   ]
  },
  {
   "cell_type": "code",
   "execution_count": 8,
   "id": "e8234205-5679-4421-a21b-d24a3c158e35",
   "metadata": {
    "tags": []
   },
   "outputs": [
    {
     "name": "stdout",
     "output_type": "stream",
     "text": [
      "Computer's cards: [10,7],current score:17\n"
     ]
    }
   ],
   "source": [
    "# Computer's initial hand\n",
    "comp_num1 = random.choice(cards)\n",
    "comp_num2 = random.choice(cards)\n",
    "comp_number = comp_num1 + comp_num2\n",
    "print(f\"Computer's cards: [{comp_num1},{comp_num2}],current score:{comp_number}\")\n"
   ]
  },
  {
   "cell_type": "code",
   "execution_count": 6,
   "id": "7a10473b-8f63-4574-add3-7af290973fd3",
   "metadata": {
    "tags": []
   },
   "outputs": [
    {
     "name": "stdin",
     "output_type": "stream",
     "text": [
      "Type 'y' to get another card, type 'n' to pass:  n\n"
     ]
    },
    {
     "name": "stdout",
     "output_type": "stream",
     "text": [
      "Your final hand: [6, 8], Final score: 14\n"
     ]
    }
   ],
   "source": [
    "# User's turn to draw additional cards\n",
    "ask = input(\"Type 'y' to get another card, type 'n' to pass: \")\n",
    "if ask == 'y':\n",
    "    Number = random.choice(cards)\n",
    "    user_number += Number\n",
    "    print(f\"Your draw card is {Number} and your total is {user_number}\")\n",
    "else:\n",
    "    print(f\"Your final hand: {list(user_numbers)}, Final score: {user_number}\")\n"
   ]
  },
  {
   "cell_type": "code",
   "execution_count": null,
   "id": "de54e0e8-6115-439e-844d-23cd999a5321",
   "metadata": {},
   "outputs": [],
   "source": [
    "# Reveal computer's full hand\n",
    "print(f\"Computer final hand [{comp_num1}, {comp_num2}], Final score: {comp_number}\")\n"
   ]
  },
  {
   "cell_type": "code",
   "execution_count": null,
   "id": "e8d6b115-481b-4b2f-90dd-e07c9929d4ce",
   "metadata": {},
   "outputs": [],
   "source": [
    "# Determine winner\n",
    "if user_number > 21 and comp_number > 21:\n",
    "    print(\"Both busted! No winner.\")\n",
    "elif user_number > 21:\n",
    "    print(\"User busted! Computer wins.\")\n",
    "elif comp_number > 21:\n",
    "    print(\"Computer busted! User wins.\")\n",
    "elif user_number == comp_number:\n",
    "    print(\"It's a tie!\")\n",
    "elif user_number > comp_number:\n",
    "    print(\"User wins! Closer to 21.\")\n",
    "else:\n",
    "    print(\"Computer wins! Closer to 21.\")"
   ]
  },
  {
   "cell_type": "code",
   "execution_count": null,
   "id": "20151b3e-8ffd-4d66-a296-ef9901800109",
   "metadata": {},
   "outputs": [],
   "source": []
  },
  {
   "cell_type": "code",
   "execution_count": null,
   "id": "ba77c9f1-b124-485d-928f-fff441f5fe34",
   "metadata": {},
   "outputs": [],
   "source": []
  },
  {
   "cell_type": "code",
   "execution_count": null,
   "id": "cb173efc-7c63-49e5-bb31-bac250378c8e",
   "metadata": {},
   "outputs": [],
   "source": []
  },
  {
   "cell_type": "code",
   "execution_count": null,
   "id": "76b94f09-dc16-4290-8d12-130a5440b4a5",
   "metadata": {},
   "outputs": [],
   "source": [
    "print(\"*** Welcome to blackjack game ***\")\n",
    "\n",
    "# Card deck with values (Ace=11, face cards=10)\n",
    "cards = (11, 2, 3, 4, 5, 6, 7, 8, 9, 10, 10, 10, 10)\n"
   ]
  }
 ],
 "metadata": {
  "kernelspec": {
   "display_name": "Python 3.11 (ipykernel)",
   "language": "python",
   "name": "python3"
  },
  "language_info": {
   "codemirror_mode": {
    "name": "ipython",
    "version": 3
   },
   "file_extension": ".py",
   "mimetype": "text/x-python",
   "name": "python",
   "nbconvert_exporter": "python",
   "pygments_lexer": "ipython3",
   "version": "3.11.6"
  }
 },
 "nbformat": 4,
 "nbformat_minor": 5
}
