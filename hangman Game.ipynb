{
 "cells": [
  {
   "cell_type": "code",
   "execution_count": 13,
   "id": "1321af79-42d6-45a2-9471-466f3314b3a8",
   "metadata": {
    "tags": []
   },
   "outputs": [],
   "source": [
    "import random\n",
    "\n",
    "# Word selection\n",
    "word_list = ['apple', 'banana', 'pear', 'mango']\n",
    "chosen_word = random.choice(word_list)\n",
    "lives = 6\n",
    "correct_letters = []"
   ]
  },
  {
   "cell_type": "code",
   "execution_count": 14,
   "id": "e60bfed9-b53b-4d8a-a9ec-6175b93b5e59",
   "metadata": {
    "tags": []
   },
   "outputs": [
    {
     "name": "stdout",
     "output_type": "stream",
     "text": [
      "Welcome to Hangman!\n",
      "Word to guess:  _  _  _  _  _ \n"
     ]
    }
   ],
   "source": [
    "# Initial display\n",
    "print(\"Welcome to Hangman!\")\n",
    "print(\"Word to guess: \" + \" _ \" * len(chosen_word))"
   ]
  },
  {
   "cell_type": "code",
   "execution_count": 15,
   "id": "cecda863-b222-48ec-b871-9e6ae6d070c4",
   "metadata": {
    "tags": []
   },
   "outputs": [
    {
     "name": "stdout",
     "output_type": "stream",
     "text": [
      "\n",
      "********* 6 lives left *********\n"
     ]
    },
    {
     "name": "stdin",
     "output_type": "stream",
     "text": [
      "Guess a letter:  m\n"
     ]
    },
    {
     "name": "stdout",
     "output_type": "stream",
     "text": [
      "Good job! 'm' is in the word.\n",
      "Word: m _ _ _ _\n",
      "\n",
      "********* 6 lives left *********\n"
     ]
    },
    {
     "name": "stdin",
     "output_type": "stream",
     "text": [
      "Guess a letter:  n\n"
     ]
    },
    {
     "name": "stdout",
     "output_type": "stream",
     "text": [
      "Good job! 'n' is in the word.\n",
      "Word: m _ n _ _\n",
      "\n",
      "********* 6 lives left *********\n"
     ]
    },
    {
     "name": "stdin",
     "output_type": "stream",
     "text": [
      "Guess a letter:  g\n"
     ]
    },
    {
     "name": "stdout",
     "output_type": "stream",
     "text": [
      "Good job! 'g' is in the word.\n",
      "Word: m _ n g _\n",
      "\n",
      "********* 6 lives left *********\n"
     ]
    },
    {
     "name": "stdin",
     "output_type": "stream",
     "text": [
      "Guess a letter:  l\n"
     ]
    },
    {
     "name": "stdout",
     "output_type": "stream",
     "text": [
      "You guessed 'l', which is not in the word. You lose a life.\n",
      "Word: m _ n g _\n",
      "\n",
      "********* 5 lives left *********\n"
     ]
    },
    {
     "name": "stdin",
     "output_type": "stream",
     "text": [
      "Guess a letter:  u\n"
     ]
    },
    {
     "name": "stdout",
     "output_type": "stream",
     "text": [
      "You guessed 'u', which is not in the word. You lose a life.\n",
      "Word: m _ n g _\n",
      "\n",
      "********* 4 lives left *********\n"
     ]
    },
    {
     "name": "stdin",
     "output_type": "stream",
     "text": [
      "Guess a letter:  l\n"
     ]
    },
    {
     "name": "stdout",
     "output_type": "stream",
     "text": [
      "You guessed 'l', which is not in the word. You lose a life.\n",
      "Word: m _ n g _\n",
      "\n",
      "********* 3 lives left *********\n"
     ]
    },
    {
     "name": "stdin",
     "output_type": "stream",
     "text": [
      "Guess a letter:  a\n"
     ]
    },
    {
     "name": "stdout",
     "output_type": "stream",
     "text": [
      "Good job! 'a' is in the word.\n",
      "Word: m a n g _\n",
      "\n",
      "********* 3 lives left *********\n"
     ]
    },
    {
     "name": "stdin",
     "output_type": "stream",
     "text": [
      "Guess a letter:  o\n"
     ]
    },
    {
     "name": "stdout",
     "output_type": "stream",
     "text": [
      "Good job! 'o' is in the word.\n",
      "Word: m a n g o\n",
      "\n",
      " Congratulations! You won! \n"
     ]
    }
   ],
   "source": [
    "# Game loop\n",
    "game_over = False\n",
    "while not game_over:\n",
    "    print(f\"\\n********* {lives} lives left *********\")\n",
    "    guess = input(\"Guess a letter: \").lower()\n",
    "\n",
    "    if guess in correct_letters:\n",
    "        print(f\"You've already guessed '{guess}'. Try a different letter.\")\n",
    "        continue\n",
    "\n",
    "    if guess in chosen_word:\n",
    "        correct_letters.append(guess)\n",
    "        print(f\"Good job! '{guess}' is in the word.\")\n",
    "    else:\n",
    "        lives -= 1\n",
    "        print(f\"You guessed '{guess}', which is not in the word. You lose a life.\")\n",
    "\n",
    "    # Display current progress\n",
    "    display = \"\"\n",
    "    for letter in chosen_word:\n",
    "        if letter in correct_letters:\n",
    "            display += letter + \" \"\n",
    "        else:\n",
    "            display += \"_ \"\n",
    "\n",
    "    print(\"Word: \" + display.strip())\n",
    "\n",
    "    # Check win condition\n",
    "    if \"_\" not in display:\n",
    "        game_over = True\n",
    "        print(\"\\n Congratulations! You won! \")\n",
    "\n",
    "    # Check lose condition\n",
    "    if lives == 0:\n",
    "        game_over = True\n",
    "        print(f\"\\n Game Over! The word was '{chosen_word}'. Better luck next time!\")"
   ]
  },
  {
   "cell_type": "code",
   "execution_count": null,
   "id": "7e727645-832d-4052-b097-2fc64c505bd8",
   "metadata": {},
   "outputs": [],
   "source": []
  },
  {
   "cell_type": "code",
   "execution_count": null,
   "id": "9b3aa678-9f26-4a37-a00a-b5dcc1380407",
   "metadata": {},
   "outputs": [],
   "source": []
  },
  {
   "cell_type": "code",
   "execution_count": null,
   "id": "7ae8841e-76dc-4c3a-b151-9c5172497446",
   "metadata": {},
   "outputs": [],
   "source": []
  }
 ],
 "metadata": {
  "kernelspec": {
   "display_name": "Python 3.11 (ipykernel)",
   "language": "python",
   "name": "python3"
  },
  "language_info": {
   "codemirror_mode": {
    "name": "ipython",
    "version": 3
   },
   "file_extension": ".py",
   "mimetype": "text/x-python",
   "name": "python",
   "nbconvert_exporter": "python",
   "pygments_lexer": "ipython3",
   "version": "3.11.6"
  }
 },
 "nbformat": 4,
 "nbformat_minor": 5
}
